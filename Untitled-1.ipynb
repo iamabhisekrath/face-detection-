{
 "cells": [
  {
   "cell_type": "code",
   "execution_count": null,
   "metadata": {},
   "outputs": [],
   "source": [
    "import cv2\n",
    "\n",
    "import sys\n",
    "\n",
    "cascPath = sys.argv[1]\n",
    "\n",
    "faceCascade = cv2.CascadeClassifier(cascPath)\n",
    "\n",
    "video_capture = cv2.VideoCapture (0)\n",
    "\n",
    "while True:\n",
    "\n",
    "# Capture frame-by-frame\n",
    "\n",
    "ret, frame = video_capture.read()\n",
    "\n",
    "gray = cv2.cvtColor(frame, cv2.COLOR_BGRZGRAY)\n",
    "\n",
    "gray,\n",
    "\n",
    "scaleFactor 1.1,\n",
    "\n",
    "faces = faceCascade.detectMultiscale( minsize=(30, 30), flags=cv2.cv.CV_HAAR_SCALE_IMAGE\n",
    "\n",
    "minNetghbors=5,\n",
    "\n",
    "# Draw a rectangle around the faces for (x, y, W. h) tn faces:\n",
    "\n",
    "cv2.rectangle(frame, (x, y), (x+w, y+h), (0, 255, 0),\n",
    "\n",
    "2)\n",
    "\n",
    "# Display the resulting frame cv2.imshow(\"Video\", frame)\n",
    "\n",
    "if cv2.wattKey(1) & 0xFF == ord( 'q'):\n",
    "\n",
    "break\n",
    "\n",
    "* When everything is done, release the capture\n",
    "video_capture.release()\n",
    "\n",
    "cv2.destroyAllWindows()"
   ]
  }
 ],
 "metadata": {
  "language_info": {
   "name": "python"
  },
  "orig_nbformat": 4
 },
 "nbformat": 4,
 "nbformat_minor": 2
}
